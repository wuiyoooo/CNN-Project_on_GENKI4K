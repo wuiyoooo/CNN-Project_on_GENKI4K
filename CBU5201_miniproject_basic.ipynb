{
  "cells": [
    {
      "cell_type": "markdown",
      "metadata": {
        "id": "91MsGMTna_P9"
      },
      "source": [
        "# CBU5201 mini-project submission\n",
        "\n",
        "The mini-project has two separate components:\n",
        "\n",
        "\n",
        "1.   **Basic component** [6 marks]: Using the genki4k dataset, build a machine learning pipeline that takes as an input an image and predicts 1) whether the person in the image is similing or not 2) estimate the 3D head pose labels in the image.\n",
        "2.   **Advanced component** [10 marks]: Formulate your own machine learning problem and build a machine learning solution using the genki4k dataset (https://inc.ucsd.edu/mplab/398/). \n",
        "\n",
        "Your submission will consist of two Jupyter notebooks, one for the basic component and another one for advanced component. Please **name each notebook**:\n",
        "\n",
        "* CBU5201_miniproject_basic.ipynb\n",
        "* CBU5201_miniproject_advanced.ipynb\n",
        "\n",
        "then **zip and submit them toghether**.\n",
        "\n",
        "Each uploaded notebook should include: \n",
        "\n",
        "*   **Text cells**, describing concisely each step and results.\n",
        "*   **Code cells**, implementing each step.\n",
        "*   **Output cells**, i.e. the output from each code cell.\n",
        "\n",
        "and **should have the structure** indicated below. Notebooks might not be run, please make sure that the output cells are saved.\n",
        "\n",
        "How will we evaluate your submission?\n",
        "\n",
        "*   Conciseness in your writing (10%).\n",
        "*   Correctness in your methodology (30%).\n",
        "*   Correctness in your analysis and conclusions (30%).\n",
        "*   Completeness (10%).\n",
        "*   Originality (10%).\n",
        "*   Efforts to try something new (10%).\n",
        "\n",
        "Suggestion: Why don't you use **GitHub** to manage your project? GitHub can be used as a presentation card that showcases what you have done and gives evidence of your data science skills, knowledge and experience. \n",
        "\n",
        "Each notebook should be structured into the following 9 sections:\n"
      ]
    },
    {
      "cell_type": "markdown",
      "metadata": {
        "id": "ZaGn4ICrfqXZ"
      },
      "source": [
        "# 1 Author\n",
        "\n",
        "**Student Name**:  Yaoan Yang\n",
        "\n",
        "**Student ID**:  210976881\n",
        "\n"
      ]
    },
    {
      "cell_type": "markdown",
      "metadata": {
        "id": "o38VQkcdKd6k"
      },
      "source": [
        "# 2 Problem formulation\n",
        "\n",
        "Develop a machine learning pipeline for facial analysis using the Genki4K dataset, with the following objectives:\n",
        "\n",
        "**Smile Detection:**\n",
        "- Input: Images from the Genki4K dataset.\n",
        "- Output: Binary classification indicating whether the person in the image is smiling or not.\n",
        "\n",
        "**3D Head Pose Estimation:**\n",
        "- Input: Images from the Genki4K dataset.\n",
        "- Output: Predict 3D head pose labels for image."
      ]
    },
    {
      "cell_type": "markdown",
      "metadata": {
        "id": "N3BwrtEdLDit"
      },
      "source": [
        "# 3 Machine Learning pipeline\n",
        "\n",
        "## Smile Detection"
      ]
    },
    {
      "cell_type": "markdown",
      "metadata": {},
      "source": [
        "**Pre-Processing**"
      ]
    },
    {
      "cell_type": "markdown",
      "metadata": {},
      "source": [
        "Lcating folder for training set, test set, validation set:"
      ]
    },
    {
      "cell_type": "code",
      "execution_count": 8,
      "metadata": {},
      "outputs": [],
      "source": [
        "import os, shutil\n",
        "\n",
        "base_dir = 'D:\\\\desktop\\\\bupt\\\\ML\\\\Mini_Project\\\\dataset_basic\\\\Smile'\n",
        "\n",
        "train_dir = os.path.join(base_dir, 'train')\n",
        "validation_dir = os.path.join(base_dir, 'validation')\n",
        "test_dir = os.path.join(base_dir, 'test')\n",
        "\n",
        "# Directory with our training smile pictures\n",
        "train_smile_dir = os.path.join(train_dir, 'smile')\n",
        "\n",
        "# Directory with our training nosmile pictures\n",
        "train_nosmile_dir = os.path.join(train_dir, 'nosmile')\n",
        "\n",
        "# Directory with our validation smile pictures\n",
        "validation_smile_dir = os.path.join(validation_dir, 'smile')\n",
        "\n",
        "# Directory with our validation nosmile pictures\n",
        "validation_nosmile_dir = os.path.join(validation_dir, 'nosmile')\n",
        "\n",
        "# Directory with our validation smile pictures\n",
        "test_smile_dir = os.path.join(test_dir, 'smile')\n",
        "\n",
        "# Directory with our validation nosmile pictures\n",
        "test_nosmile_dir = os.path.join(test_dir, 'nosmile')\n"
      ]
    },
    {
      "cell_type": "code",
      "execution_count": 9,
      "metadata": {},
      "outputs": [
        {
          "name": "stdout",
          "output_type": "stream",
          "text": [
            "total training smile images: 1730\n",
            "total training nosmile images: 1470\n",
            "total validation smile images: 200\n",
            "total validation nosmile images: 190\n",
            "total test smile images: 232\n",
            "total test nosmile images: 177\n"
          ]
        }
      ],
      "source": [
        "print('total training smile images:', len(os.listdir(train_smile_dir)))\n",
        "print('total training nosmile images:', len(os.listdir(train_nosmile_dir)))\n",
        "print('total validation smile images:', len(os.listdir(validation_smile_dir)))\n",
        "print('total validation nosmile images:', len(os.listdir(validation_nosmile_dir)))\n",
        "print('total test smile images:', len(os.listdir(test_smile_dir)))\n",
        "print('total test nosmile images:', len(os.listdir(test_nosmile_dir)))"
      ]
    },
    {
      "cell_type": "markdown",
      "metadata": {},
      "source": [
        "Loading the images in the set: "
      ]
    },
    {
      "cell_type": "code",
      "execution_count": 10,
      "metadata": {},
      "outputs": [
        {
          "name": "stdout",
          "output_type": "stream",
          "text": [
            "Found 3200 images belonging to 2 classes.\n",
            "Found 390 images belonging to 2 classes.\n",
            "Found 409 images belonging to 2 classes.\n"
          ]
        }
      ],
      "source": [
        "import tensorflow.keras as keras\n",
        "from keras.preprocessing.image import ImageDataGenerator\n",
        "\n",
        "# All images will be rescaled by 1./255\n",
        "train_datagen = ImageDataGenerator(rescale=1./255)\n",
        "test_datagen = ImageDataGenerator(rescale=1./255)\n",
        "\n",
        "train_generator = train_datagen.flow_from_directory(\n",
        "        # This is the target directory\n",
        "        train_dir,\n",
        "        # All images will be resized to 150x150\n",
        "        target_size=(150, 150),\n",
        "        batch_size=20,\n",
        "        class_mode='binary')\n",
        "\n",
        "validation_generator = test_datagen.flow_from_directory(\n",
        "        validation_dir,\n",
        "        target_size=(150, 150),\n",
        "        batch_size=20,\n",
        "        class_mode='binary')\n",
        "\n",
        "test_generator = test_datagen.flow_from_directory(\n",
        "        test_dir,\n",
        "        target_size=(150, 150),\n",
        "        batch_size=20,\n",
        "        class_mode='binary')"
      ]
    },
    {
      "cell_type": "markdown",
      "metadata": {},
      "source": [
        "**Building Model**"
      ]
    },
    {
      "cell_type": "code",
      "execution_count": 14,
      "metadata": {},
      "outputs": [
        {
          "name": "stdout",
          "output_type": "stream",
          "text": [
            "Model: \"sequential_1\"\n",
            "_________________________________________________________________\n",
            " Layer (type)                Output Shape              Param #   \n",
            "=================================================================\n",
            " conv2d_3 (Conv2D)           (None, 148, 148, 32)      896       \n",
            "                                                                 \n",
            " max_pooling2d_3 (MaxPooling  (None, 74, 74, 32)       0         \n",
            " 2D)                                                             \n",
            "                                                                 \n",
            " conv2d_4 (Conv2D)           (None, 72, 72, 64)        18496     \n",
            "                                                                 \n",
            " max_pooling2d_4 (MaxPooling  (None, 36, 36, 64)       0         \n",
            " 2D)                                                             \n",
            "                                                                 \n",
            " conv2d_5 (Conv2D)           (None, 34, 34, 128)       73856     \n",
            "                                                                 \n",
            " max_pooling2d_5 (MaxPooling  (None, 17, 17, 128)      0         \n",
            " 2D)                                                             \n",
            "                                                                 \n",
            " conv2d_6 (Conv2D)           (None, 15, 15, 128)       147584    \n",
            "                                                                 \n",
            " max_pooling2d_6 (MaxPooling  (None, 7, 7, 128)        0         \n",
            " 2D)                                                             \n",
            "                                                                 \n",
            " flatten_1 (Flatten)         (None, 6272)              0         \n",
            "                                                                 \n",
            " dense_3 (Dense)             (None, 512)               3211776   \n",
            "                                                                 \n",
            " dense_4 (Dense)             (None, 1)                 513       \n",
            "                                                                 \n",
            "=================================================================\n",
            "Total params: 3,453,121\n",
            "Trainable params: 3,453,121\n",
            "Non-trainable params: 0\n",
            "_________________________________________________________________\n"
          ]
        }
      ],
      "source": [
        "from keras import layers\n",
        "from keras import models\n",
        "\n",
        "model = models.Sequential()\n",
        "model.add(layers.Conv2D(32, (3, 3), activation='relu',\n",
        "                        input_shape=(150, 150, 3)))\n",
        "model.add(layers.MaxPooling2D((2, 2)))\n",
        "model.add(layers.Conv2D(64, (3, 3), activation='relu'))\n",
        "model.add(layers.MaxPooling2D((2, 2)))\n",
        "model.add(layers.Conv2D(128, (3, 3), activation='relu'))\n",
        "model.add(layers.MaxPooling2D((2, 2)))\n",
        "model.add(layers.Conv2D(128, (3, 3), activation='relu'))\n",
        "model.add(layers.MaxPooling2D((2, 2)))\n",
        "model.add(layers.Flatten())\n",
        "model.add(layers.Dense(512, activation='relu'))\n",
        "model.add(layers.Dense(1, activation='sigmoid'))\n",
        "\n",
        "model.summary()"
      ]
    },
    {
      "cell_type": "code",
      "execution_count": 15,
      "metadata": {},
      "outputs": [
        {
          "data": {
            "image/png": "[encoded data removed]",
            "text/plain": [
              "<PIL.Image.Image image mode=RGBA size=854x826>"
            ]
          },
          "execution_count": 15,
          "metadata": {},
          "output_type": "execute_result"
        }
      ],
      "source": [
        "import visualkeras\n",
        "\n",
        "visualkeras.layered_view(model, legend=True)"
      ]
    },
    {
      "cell_type": "markdown",
      "metadata": {},
      "source": [
        "**Compile and Training**"
      ]
    },
    {
      "cell_type": "code",
      "execution_count": 41,
      "metadata": {},
      "outputs": [
        {
          "name": "stdout",
          "output_type": "stream",
          "text": [
            "Epoch 1/30\n"
          ]
        },
        {
          "name": "stderr",
          "output_type": "stream",
          "text": [
            "C:\\ProgramData\\Anaconda3\\envs\\tensorflow\\Lib\\site-packages\\ipykernel_launcher.py:12: UserWarning: `Model.fit_generator` is deprecated and will be removed in a future version. Please use `Model.fit`, which supports generators.\n",
            "  if sys.path[0] == \"\":\n"
          ]
        },
        {
          "name": "stdout",
          "output_type": "stream",
          "text": [
            "100/100 [==============================] - 27s 261ms/step - loss: 0.6848 - acc: 0.5555 - val_loss: 0.6871 - val_acc: 0.5553\n",
            "Epoch 2/30\n",
            "100/100 [==============================] - 27s 273ms/step - loss: 0.6737 - acc: 0.5770 - val_loss: 0.6869 - val_acc: 0.5263\n",
            "Epoch 3/30\n",
            "100/100 [==============================] - 37s 366ms/step - loss: 0.6561 - acc: 0.6320 - val_loss: 0.6626 - val_acc: 0.6105\n",
            "Epoch 4/30\n",
            "100/100 [==============================] - 29s 290ms/step - loss: 0.6422 - acc: 0.6255 - val_loss: 0.6598 - val_acc: 0.5947\n",
            "Epoch 5/30\n",
            "100/100 [==============================] - 35s 346ms/step - loss: 0.6262 - acc: 0.6520 - val_loss: 0.6362 - val_acc: 0.6421\n",
            "Epoch 6/30\n",
            "100/100 [==============================] - 39s 395ms/step - loss: 0.6026 - acc: 0.6785 - val_loss: 0.6400 - val_acc: 0.6316\n",
            "Epoch 7/30\n",
            "100/100 [==============================] - 33s 331ms/step - loss: 0.5681 - acc: 0.7175 - val_loss: 0.6349 - val_acc: 0.6447\n",
            "Epoch 8/30\n",
            "100/100 [==============================] - 34s 340ms/step - loss: 0.5347 - acc: 0.7360 - val_loss: 0.6424 - val_acc: 0.6237\n",
            "Epoch 9/30\n",
            "100/100 [==============================] - 32s 315ms/step - loss: 0.5113 - acc: 0.7565 - val_loss: 0.5420 - val_acc: 0.7289\n",
            "Epoch 10/30\n",
            "100/100 [==============================] - 30s 297ms/step - loss: 0.4791 - acc: 0.7770 - val_loss: 0.5515 - val_acc: 0.7237\n",
            "Epoch 11/30\n",
            "100/100 [==============================] - 29s 286ms/step - loss: 0.4527 - acc: 0.7955 - val_loss: 0.5394 - val_acc: 0.7421\n",
            "Epoch 12/30\n",
            "100/100 [==============================] - 32s 314ms/step - loss: 0.4228 - acc: 0.8145 - val_loss: 0.5114 - val_acc: 0.7474\n",
            "Epoch 13/30\n",
            "100/100 [==============================] - 31s 312ms/step - loss: 0.4074 - acc: 0.8235 - val_loss: 0.4990 - val_acc: 0.7658\n",
            "Epoch 14/30\n",
            "100/100 [==============================] - 31s 314ms/step - loss: 0.3741 - acc: 0.8390 - val_loss: 0.5307 - val_acc: 0.7500\n",
            "Epoch 15/30\n",
            "100/100 [==============================] - 31s 313ms/step - loss: 0.3329 - acc: 0.8625 - val_loss: 0.4860 - val_acc: 0.7605\n",
            "Epoch 16/30\n",
            "100/100 [==============================] - 32s 317ms/step - loss: 0.3323 - acc: 0.8570 - val_loss: 0.5478 - val_acc: 0.7526\n",
            "Epoch 17/30\n",
            "100/100 [==============================] - 52s 519ms/step - loss: 0.3147 - acc: 0.8710 - val_loss: 0.4603 - val_acc: 0.7789\n",
            "Epoch 18/30\n",
            "100/100 [==============================] - 79s 783ms/step - loss: 0.2832 - acc: 0.8820 - val_loss: 0.4987 - val_acc: 0.7605\n",
            "Epoch 19/30\n",
            "100/100 [==============================] - 79s 786ms/step - loss: 0.2760 - acc: 0.8930 - val_loss: 0.4720 - val_acc: 0.7711\n",
            "Epoch 20/30\n",
            "100/100 [==============================] - 75s 745ms/step - loss: 0.2768 - acc: 0.8870 - val_loss: 0.4561 - val_acc: 0.7947\n",
            "Epoch 21/30\n",
            "100/100 [==============================] - 75s 750ms/step - loss: 0.2397 - acc: 0.9160 - val_loss: 0.4601 - val_acc: 0.7895\n",
            "Epoch 22/30\n",
            "100/100 [==============================] - 75s 750ms/step - loss: 0.2218 - acc: 0.9195 - val_loss: 0.5077 - val_acc: 0.7658\n",
            "Epoch 23/30\n",
            "100/100 [==============================] - 74s 734ms/step - loss: 0.2174 - acc: 0.9225 - val_loss: 0.4682 - val_acc: 0.7868\n",
            "Epoch 24/30\n",
            "100/100 [==============================] - 74s 741ms/step - loss: 0.1958 - acc: 0.9275 - val_loss: 0.5232 - val_acc: 0.7974\n",
            "Epoch 25/30\n",
            "100/100 [==============================] - 73s 728ms/step - loss: 0.1874 - acc: 0.9315 - val_loss: 0.5249 - val_acc: 0.7921\n",
            "Epoch 26/30\n",
            "100/100 [==============================] - 73s 732ms/step - loss: 0.1601 - acc: 0.9405 - val_loss: 0.5713 - val_acc: 0.7553\n",
            "Epoch 27/30\n",
            "100/100 [==============================] - 99s 984ms/step - loss: 0.1491 - acc: 0.9485 - val_loss: 0.6211 - val_acc: 0.7658\n",
            "Epoch 28/30\n",
            "100/100 [==============================] - 63s 637ms/step - loss: 0.1297 - acc: 0.9595 - val_loss: 0.5491 - val_acc: 0.7868\n",
            "Epoch 29/30\n",
            "100/100 [==============================] - 74s 739ms/step - loss: 0.1201 - acc: 0.9600 - val_loss: 0.6157 - val_acc: 0.7737\n",
            "Epoch 30/30\n",
            "100/100 [==============================] - 71s 712ms/step - loss: 0.1051 - acc: 0.9645 - val_loss: 0.5484 - val_acc: 0.7921\n"
          ]
        }
      ],
      "source": [
        "from keras import optimizers\n",
        "\n",
        "model.compile(loss='binary_crossentropy',\n",
        "              optimizer=optimizers.RMSprop(lr=1e-4),\n",
        "              metrics=['acc'])\n",
        "\n",
        "history = model.fit_generator(\n",
        "      train_generator,\n",
        "      steps_per_epoch=100,\n",
        "      epochs=30,\n",
        "      validation_data=validation_generator,\n",
        "      validation_steps=390//20)"
      ]
    },
    {
      "cell_type": "markdown",
      "metadata": {},
      "source": [
        "**Saving result**"
      ]
    },
    {
      "cell_type": "code",
      "execution_count": 52,
      "metadata": {},
      "outputs": [],
      "source": [
        "model.save('D:\\\\desktop\\\\bupt\\\\ML\\\\Mini_Project\\\\basic_v1.h5')"
      ]
    },
    {
      "cell_type": "markdown",
      "metadata": {},
      "source": [
        "**One Example Test**"
      ]
    },
    {
      "cell_type": "code",
      "execution_count": 12,
      "metadata": {},
      "outputs": [
        {
          "name": "stdout",
          "output_type": "stream",
          "text": [
            "1/1 [==============================] - 0s 90ms/step\n",
            "[[0.9822432]]\n",
            "smile\n",
            "1/1 [==============================] - 0s 28ms/step\n",
            "[[0.0582096]]\n",
            "no smile\n"
          ]
        }
      ],
      "source": [
        "import tensorflow.keras as keras\n",
        "import numpy as np\n",
        "model = keras.models.load_model('D:\\\\desktop\\\\bupt\\\\ML\\\\Mini_Project\\\\basic_v1.h5')\n",
        "#smile case\n",
        "img_path='D:\\\\desktop\\\\bupt\\\\ML\\\\Mini_Project\\\\dataset_basic\\\\Smile\\\\test\\\\smile\\\\file1931.jpg'\n",
        "img = keras.utils.load_img(img_path, target_size=(150, 150))\n",
        "img_tensor = keras.utils.img_to_array(img)/255.0\n",
        "img_tensor = np.expand_dims(img_tensor, axis=0)\n",
        "prediction =model.predict(img_tensor)  \n",
        "print(prediction)\n",
        "if prediction[0][0]>0.5:\n",
        "    result='smile'\n",
        "else:\n",
        "    result='nosmile'\n",
        "print(result)\n",
        "#non-smile case\n",
        "img_path='D:\\\\desktop\\\\bupt\\\\ML\\\\Mini_Project\\\\dataset_basic\\\\Smile\\\\test\\\\nosmile\\\\file3824.jpg'\n",
        "img = keras.utils.load_img(img_path, target_size=(150, 150))\n",
        "img_tensor = keras.utils.img_to_array(img)/255.0\n",
        "img_tensor = np.expand_dims(img_tensor, axis=0)\n",
        "prediction =model.predict(img_tensor)  \n",
        "print(prediction)\n",
        "if prediction[0][0]>0.5:\n",
        "    result='smile'\n",
        "else:\n",
        "    result='no smile'\n",
        "print(result)"
      ]
    },
    {
      "cell_type": "markdown",
      "metadata": {},
      "source": [
        "**Evaluation**"
      ]
    },
    {
      "cell_type": "code",
      "execution_count": 11,
      "metadata": {},
      "outputs": [
        {
          "name": "stdout",
          "output_type": "stream",
          "text": [
            "Found 409 images belonging to 2 classes.\n"
          ]
        },
        {
          "name": "stderr",
          "output_type": "stream",
          "text": [
            "C:\\ProgramData\\Anaconda3\\envs\\tensorflow\\Lib\\site-packages\\ipykernel_launcher.py:17: UserWarning: `Model.evaluate_generator` is deprecated and will be removed in a future version. Please use `Model.evaluate`, which supports generators.\n",
            "  app.launch_new_instance()\n"
          ]
        },
        {
          "name": "stdout",
          "output_type": "stream",
          "text": [
            "loss: 0.516660 - acc: 0.785000\n"
          ]
        }
      ],
      "source": [
        "from keras.preprocessing.image import ImageDataGenerator\n",
        "\n",
        "test_datagen = ImageDataGenerator(rescale=1./255)\n",
        "test_dir = 'D:\\\\desktop\\\\bupt\\\\ML\\\\Mini_Project\\\\dataset_basic\\\\Smile\\\\test'\n",
        "test_generator = test_datagen.flow_from_directory(\n",
        "        test_dir,\n",
        "        target_size=(150, 150),\n",
        "        batch_size=20,\n",
        "        class_mode='binary')\n",
        "\n",
        "score = model.evaluate_generator(\n",
        "  test_generator,\n",
        "  steps=409//20,\n",
        "  max_queue_size=10,\n",
        "  workers=1,\n",
        "  use_multiprocessing=False,\n",
        "  verbose=0)\n",
        "print(\"loss: %.6f - acc: %.6f\" % (score[0], score[1]))"
      ]
    },
    {
      "cell_type": "markdown",
      "metadata": {},
      "source": [
        "## Head Pose Estimation"
      ]
    },
    {
      "cell_type": "markdown",
      "metadata": {},
      "source": [
        "**Pre Processing**"
      ]
    },
    {
      "cell_type": "code",
      "execution_count": 1,
      "metadata": {},
      "outputs": [],
      "source": [
        "import os, shutil\n",
        "import tensorflow as tf\n",
        "base_dir = 'D:\\\\desktop\\\\bupt\\\\ML\\\\Mini_Project\\\\dataset_basic\\\\head_pose'\n",
        "\n",
        "train_dir = os.path.join(base_dir, 'train')\n",
        "validation_dir = os.path.join(base_dir, 'validation')\n",
        "test_dir = os.path.join(base_dir, 'test')"
      ]
    },
    {
      "cell_type": "code",
      "execution_count": 2,
      "metadata": {},
      "outputs": [
        {
          "name": "stdout",
          "output_type": "stream",
          "text": [
            "        image_file         A         B         C\n",
            "0     file0001.jpg -0.021162  0.059530 -0.039662\n",
            "1     file0002.jpg -0.057745  0.083098 -0.094952\n",
            "2     file0003.jpg  0.095993  0.028798  0.065996\n",
            "3     file0004.jpg  0.000000  0.047124  0.171268\n",
            "4     file0005.jpg  0.036073  0.043633 -0.181721\n",
            "...            ...       ...       ...       ...\n",
            "3195  file3196.jpg  0.050476 -0.022689  0.056677\n",
            "3196  file3197.jpg  0.432842 -0.020944  0.114054\n",
            "3197  file3198.jpg  0.482291  0.405936  0.027606\n",
            "3198  file3199.jpg -0.715585  0.125869 -0.245966\n",
            "3199  file3200.jpg  0.543000  0.265496  0.281182\n",
            "\n",
            "[3200 rows x 4 columns]\n"
          ]
        }
      ],
      "source": [
        "\n",
        "import pandas as pd\n",
        "\n",
        "train_data = pd.read_csv('D:\\\\desktop\\\\bupt\\\\ML\\\\Mini_Project\\\\dataset_basic\\\\head_pose\\\\train\\\\label.csv')\n",
        "valid_data = pd.read_csv('D:\\\\desktop\\\\bupt\\\\ML\\\\Mini_Project\\\\dataset_basic\\\\head_pose\\\\validation\\\\label.csv')\n",
        "test_data = pd.read_csv('D:\\\\desktop\\\\bupt\\\\ML\\\\Mini_Project\\\\dataset_basic\\\\head_pose\\\\test\\\\label.csv')\n",
        "print(train_data)"
      ]
    },
    {
      "cell_type": "code",
      "execution_count": 3,
      "metadata": {},
      "outputs": [
        {
          "name": "stdout",
          "output_type": "stream",
          "text": [
            "Found 3200 validated image filenames.\n",
            "Found 400 validated image filenames.\n",
            "Found 400 validated image filenames.\n"
          ]
        }
      ],
      "source": [
        "import tensorflow.python.keras as keras\n",
        "from keras.preprocessing.image import ImageDataGenerator\n",
        "\n",
        "# All images will be rescaled by 1./255\n",
        "train_datagen = ImageDataGenerator(rescale=1./255)\n",
        "test_datagen = ImageDataGenerator(rescale=1./255)\n",
        "train_generator = train_datagen.flow_from_dataframe(\n",
        "    dataframe=train_data,\n",
        "    directory=os.path.join(train_dir, 'image'),\n",
        "    x_col='image_file', \n",
        "    y_col=['A', 'B', 'C'], \n",
        "    batch_size=20, \n",
        "    target_size=(96, 96), \n",
        "    class_mode='raw')\n",
        "test_generator = test_datagen.flow_from_dataframe(\n",
        "    dataframe=test_data,\n",
        "    directory=os.path.join(test_dir, 'image'),\n",
        "    x_col='image_file', \n",
        "    y_col=['A', 'B', 'C'], \n",
        "    batch_size=20, \n",
        "    target_size=(96, 96), \n",
        "    class_mode='raw')\n",
        "valid_generator = test_datagen.flow_from_dataframe(\n",
        "    dataframe=valid_data,\n",
        "    directory=os.path.join(validation_dir, 'image'),\n",
        "    x_col='image_file', \n",
        "    y_col=['A', 'B', 'C'], \n",
        "    batch_size=20, \n",
        "    target_size=(96, 96), \n",
        "    class_mode='raw')"
      ]
    },
    {
      "cell_type": "markdown",
      "metadata": {},
      "source": [
        "**Building Model**"
      ]
    },
    {
      "cell_type": "code",
      "execution_count": 4,
      "metadata": {},
      "outputs": [
        {
          "name": "stdout",
          "output_type": "stream",
          "text": [
            "Model: \"sequential\"\n",
            "_________________________________________________________________\n",
            " Layer (type)                Output Shape              Param #   \n",
            "=================================================================\n",
            " conv2d (Conv2D)             (None, 92, 92, 50)        3800      \n",
            "                                                                 \n",
            " max_pooling2d (MaxPooling2D  (None, 46, 46, 50)       0         \n",
            " )                                                               \n",
            "                                                                 \n",
            " dropout (Dropout)           (None, 46, 46, 50)        0         \n",
            "                                                                 \n",
            " conv2d_1 (Conv2D)           (None, 42, 42, 100)       125100    \n",
            "                                                                 \n",
            " max_pooling2d_1 (MaxPooling  (None, 21, 21, 100)      0         \n",
            " 2D)                                                             \n",
            "                                                                 \n",
            " dropout_1 (Dropout)         (None, 21, 21, 100)       0         \n",
            "                                                                 \n",
            " conv2d_2 (Conv2D)           (None, 18, 18, 150)       240150    \n",
            "                                                                 \n",
            " max_pooling2d_2 (MaxPooling  (None, 9, 9, 150)        0         \n",
            " 2D)                                                             \n",
            "                                                                 \n",
            " dropout_2 (Dropout)         (None, 9, 9, 150)         0         \n",
            "                                                                 \n",
            " flatten (Flatten)           (None, 12150)             0         \n",
            "                                                                 \n",
            " dense (Dense)               (None, 300)               3645300   \n",
            "                                                                 \n",
            " dropout_3 (Dropout)         (None, 300)               0         \n",
            "                                                                 \n",
            " dense_1 (Dense)             (None, 300)               90300     \n",
            "                                                                 \n",
            " dropout_4 (Dropout)         (None, 300)               0         \n",
            "                                                                 \n",
            " dense_2 (Dense)             (None, 3)                 903       \n",
            "                                                                 \n",
            "=================================================================\n",
            "Total params: 4,105,553\n",
            "Trainable params: 4,105,553\n",
            "Non-trainable params: 0\n",
            "_________________________________________________________________\n"
          ]
        }
      ],
      "source": [
        "from keras import layers\n",
        "from keras import models\n",
        "\n",
        "model = models.Sequential()\n",
        "model.add(layers.Conv2D(50, (5, 5), activation='relu', input_shape=(96, 96, 3)))\n",
        "model.add(layers.MaxPooling2D((2, 2)))\n",
        "model.add(layers.Dropout(0.2))\n",
        "model.add(layers.Conv2D(100, (5, 5), activation='relu'))\n",
        "model.add(layers.MaxPooling2D((2, 2)))\n",
        "model.add(layers.Dropout(0.2))\n",
        "model.add(layers.Conv2D(150, (4, 4), activation='relu'))\n",
        "model.add(layers.MaxPooling2D((2, 2)))\n",
        "model.add(layers.Dropout(0.3))\n",
        "model.add(layers.Flatten())\n",
        "model.add(layers.Dense(300))\n",
        "model.add(layers.Dropout(0.3))\n",
        "model.add(layers.Dense(300))\n",
        "model.add(layers.Dropout(0.3))\n",
        "model.add(layers.Dense(3))\n",
        "model.summary()"
      ]
    },
    {
      "cell_type": "code",
      "execution_count": 5,
      "metadata": {},
      "outputs": [
        {
          "data": {
            "image/png": "[encoded data removed]",
            "text/plain": [
              "<PIL.Image.Image image mode=RGBA size=945x527>"
            ]
          },
          "execution_count": 5,
          "metadata": {},
          "output_type": "execute_result"
        }
      ],
      "source": [
        "import visualkeras\n",
        "\n",
        "visualkeras.layered_view(model, legend=True)"
      ]
    },
    {
      "cell_type": "markdown",
      "metadata": {},
      "source": [
        "**Compile and Training**"
      ]
    },
    {
      "cell_type": "code",
      "execution_count": 6,
      "metadata": {},
      "outputs": [
        {
          "name": "stdout",
          "output_type": "stream",
          "text": [
            "Epoch 1/30\n"
          ]
        },
        {
          "name": "stderr",
          "output_type": "stream",
          "text": [
            "C:\\ProgramData\\Anaconda3\\envs\\tensorflow\\Lib\\site-packages\\keras\\optimizers\\optimizer_v2\\rmsprop.py:135: UserWarning: The `lr` argument is deprecated, use `learning_rate` instead.\n",
            "  super(RMSprop, self).__init__(name, **kwargs)\n",
            "C:\\ProgramData\\Anaconda3\\envs\\tensorflow\\Lib\\site-packages\\ipykernel_launcher.py:10: UserWarning: `Model.fit_generator` is deprecated and will be removed in a future version. Please use `Model.fit`, which supports generators.\n",
            "  # Remove the CWD from sys.path while we load stuff.\n"
          ]
        },
        {
          "name": "stdout",
          "output_type": "stream",
          "text": [
            "100/100 [==============================] - 66s 648ms/step - loss: 0.1740 - acc: 0.4075 - val_loss: 0.1256 - val_acc: 0.5275\n",
            "Epoch 2/30\n",
            "100/100 [==============================] - 61s 609ms/step - loss: 0.1222 - acc: 0.4545 - val_loss: 0.1253 - val_acc: 0.5275\n",
            "Epoch 3/30\n",
            "100/100 [==============================] - 60s 599ms/step - loss: 0.1210 - acc: 0.4790 - val_loss: 0.1230 - val_acc: 0.5250\n",
            "Epoch 4/30\n",
            "100/100 [==============================] - 64s 637ms/step - loss: 0.1139 - acc: 0.5045 - val_loss: 0.1184 - val_acc: 0.5450\n",
            "Epoch 5/30\n",
            "100/100 [==============================] - 68s 682ms/step - loss: 0.1106 - acc: 0.5385 - val_loss: 0.1150 - val_acc: 0.5625\n",
            "Epoch 6/30\n",
            "100/100 [==============================] - 58s 582ms/step - loss: 0.1089 - acc: 0.5490 - val_loss: 0.1133 - val_acc: 0.5850\n",
            "Epoch 7/30\n",
            "100/100 [==============================] - 52s 523ms/step - loss: 0.1076 - acc: 0.5665 - val_loss: 0.1133 - val_acc: 0.5950\n",
            "Epoch 8/30\n",
            "100/100 [==============================] - 53s 525ms/step - loss: 0.1037 - acc: 0.5835 - val_loss: 0.1111 - val_acc: 0.5925\n",
            "Epoch 9/30\n",
            "100/100 [==============================] - 53s 534ms/step - loss: 0.1016 - acc: 0.6090 - val_loss: 0.1043 - val_acc: 0.6025\n",
            "Epoch 10/30\n",
            "100/100 [==============================] - 57s 569ms/step - loss: 0.0995 - acc: 0.6325 - val_loss: 0.1049 - val_acc: 0.6225\n",
            "Epoch 11/30\n",
            "100/100 [==============================] - 55s 547ms/step - loss: 0.0969 - acc: 0.6295 - val_loss: 0.1107 - val_acc: 0.6175\n",
            "Epoch 12/30\n",
            "100/100 [==============================] - 53s 526ms/step - loss: 0.0945 - acc: 0.6325 - val_loss: 0.1023 - val_acc: 0.6275\n",
            "Epoch 13/30\n",
            "100/100 [==============================] - 53s 532ms/step - loss: 0.0929 - acc: 0.6380 - val_loss: 0.1007 - val_acc: 0.6250\n",
            "Epoch 14/30\n",
            "100/100 [==============================] - 54s 541ms/step - loss: 0.0901 - acc: 0.6600 - val_loss: 0.0986 - val_acc: 0.6450\n",
            "Epoch 15/30\n",
            "100/100 [==============================] - 59s 590ms/step - loss: 0.0904 - acc: 0.6615 - val_loss: 0.0978 - val_acc: 0.6350\n",
            "Epoch 16/30\n",
            "100/100 [==============================] - 56s 564ms/step - loss: 0.0882 - acc: 0.6630 - val_loss: 0.1031 - val_acc: 0.6525\n",
            "Epoch 17/30\n",
            "100/100 [==============================] - 54s 542ms/step - loss: 0.0873 - acc: 0.6905 - val_loss: 0.0995 - val_acc: 0.6175\n",
            "Epoch 18/30\n",
            "100/100 [==============================] - 55s 554ms/step - loss: 0.0875 - acc: 0.6765 - val_loss: 0.0958 - val_acc: 0.6150\n",
            "Epoch 19/30\n",
            "100/100 [==============================] - 48s 483ms/step - loss: 0.0854 - acc: 0.6520 - val_loss: 0.0938 - val_acc: 0.6500\n",
            "Epoch 20/30\n",
            "100/100 [==============================] - 53s 535ms/step - loss: 0.0852 - acc: 0.7000 - val_loss: 0.0969 - val_acc: 0.6550\n",
            "Epoch 21/30\n",
            "100/100 [==============================] - 50s 504ms/step - loss: 0.0849 - acc: 0.6850 - val_loss: 0.0939 - val_acc: 0.6775\n",
            "Epoch 22/30\n",
            "100/100 [==============================] - 46s 459ms/step - loss: 0.0833 - acc: 0.6955 - val_loss: 0.0963 - val_acc: 0.6475\n",
            "Epoch 23/30\n",
            "100/100 [==============================] - 52s 518ms/step - loss: 0.0810 - acc: 0.6950 - val_loss: 0.0938 - val_acc: 0.6750\n",
            "Epoch 24/30\n",
            "100/100 [==============================] - 48s 482ms/step - loss: 0.0820 - acc: 0.7085 - val_loss: 0.0918 - val_acc: 0.6700\n",
            "Epoch 25/30\n",
            "100/100 [==============================] - 50s 496ms/step - loss: 0.0811 - acc: 0.6985 - val_loss: 0.0934 - val_acc: 0.6825\n",
            "Epoch 26/30\n",
            "100/100 [==============================] - 54s 537ms/step - loss: 0.0800 - acc: 0.7155 - val_loss: 0.0920 - val_acc: 0.6450\n",
            "Epoch 27/30\n",
            "100/100 [==============================] - 49s 489ms/step - loss: 0.0791 - acc: 0.7065 - val_loss: 0.0928 - val_acc: 0.6675\n",
            "Epoch 28/30\n",
            "100/100 [==============================] - 51s 507ms/step - loss: 0.0791 - acc: 0.7065 - val_loss: 0.0909 - val_acc: 0.6800\n",
            "Epoch 29/30\n",
            "100/100 [==============================] - 57s 571ms/step - loss: 0.0770 - acc: 0.7200 - val_loss: 0.0940 - val_acc: 0.6450\n",
            "Epoch 30/30\n",
            "100/100 [==============================] - 57s 565ms/step - loss: 0.0767 - acc: 0.7295 - val_loss: 0.0905 - val_acc: 0.7025\n"
          ]
        }
      ],
      "source": [
        "from keras import optimizers\n",
        "model.compile(loss='mae',\n",
        "              optimizer=optimizers.RMSprop(lr=1e-4),\n",
        "              metrics=['acc'])\n",
        "history = model.fit_generator(\n",
        "      train_generator,\n",
        "      steps_per_epoch=100,\n",
        "      epochs=30,\n",
        "      validation_data=valid_generator,\n",
        "      validation_steps=20\n",
        "      )"
      ]
    },
    {
      "cell_type": "markdown",
      "metadata": {},
      "source": [
        "**Saving Result**"
      ]
    },
    {
      "cell_type": "code",
      "execution_count": 7,
      "metadata": {},
      "outputs": [],
      "source": [
        "model.save('D:\\\\desktop\\\\bupt\\\\ML\\\\Mini_Project\\\\basic_v2.h5')"
      ]
    },
    {
      "cell_type": "markdown",
      "metadata": {},
      "source": [
        "**One Sample Test**"
      ]
    },
    {
      "cell_type": "code",
      "execution_count": 8,
      "metadata": {},
      "outputs": [
        {
          "name": "stdout",
          "output_type": "stream",
          "text": [
            "1/1 [==============================] - 0s 130ms/step\n",
            "[[ 0.00850096 -0.00510798  0.02157038]]\n"
          ]
        }
      ],
      "source": [
        "import keras\n",
        "import numpy as np\n",
        "model = keras.models.load_model('D:\\\\desktop\\\\bupt\\\\ML\\\\Mini_Project\\\\basic_v2.h5')\n",
        "img_path='D:\\\\desktop\\\\bupt\\\\ML\\\\Mini_Project\\\\dataset_basic\\\\head_pose\\\\test\\\\image\\\\file3601.jpg'\n",
        "img = keras.utils.load_img(img_path, target_size=(96, 96))\n",
        "img_tensor = keras.utils.img_to_array(img)/255.0\n",
        "img_tensor = np.expand_dims(img_tensor, axis=0)\n",
        "prediction =model.predict(img_tensor)  \n",
        "print(prediction)"
      ]
    },
    {
      "cell_type": "markdown",
      "metadata": {},
      "source": [
        "**Evaluation**"
      ]
    },
    {
      "cell_type": "code",
      "execution_count": 9,
      "metadata": {},
      "outputs": [
        {
          "name": "stderr",
          "output_type": "stream",
          "text": [
            "C:\\ProgramData\\Anaconda3\\envs\\tensorflow\\Lib\\site-packages\\ipykernel_launcher.py:7: UserWarning: `Model.evaluate_generator` is deprecated and will be removed in a future version. Please use `Model.evaluate`, which supports generators.\n",
            "  import sys\n"
          ]
        },
        {
          "name": "stdout",
          "output_type": "stream",
          "text": [
            "loss: 0.095182 - acc: 0.680000\n"
          ]
        }
      ],
      "source": [
        "score = model.evaluate_generator(\n",
        "  test_generator,\n",
        "  steps=400//20,\n",
        "  max_queue_size=10,\n",
        "  workers=1,\n",
        "  use_multiprocessing=False,\n",
        "  verbose=0)\n",
        "print(\"loss: %.6f - acc: %.6f\" % (score[0], score[1]))"
      ]
    },
    {
      "cell_type": "markdown",
      "metadata": {
        "id": "j1nDXnzYLLH6"
      },
      "source": [
        "# 4 Transformation stage\n",
        "\n",
        "Describe any transformations, such as feature extraction. Identify input and output. Explain why you have chosen this transformation stage."
      ]
    },
    {
      "cell_type": "markdown",
      "metadata": {
        "id": "0F5_kI95LuZ2"
      },
      "source": [
        "# 5 Modelling\n",
        "\n",
        "Describe the ML model(s) that you will build. Explain why you have chosen them."
      ]
    },
    {
      "cell_type": "markdown",
      "metadata": {
        "id": "bPTSuaB9L2jU"
      },
      "source": [
        "# 6 Methodology\n",
        "\n",
        "Describe how you will train and validate your models, how model performance is assesssed (i.e. accuracy, confusion matrix, etc)"
      ]
    },
    {
      "cell_type": "markdown",
      "metadata": {
        "id": "HZQPxztuL9AW"
      },
      "source": [
        "# 7 Dataset\n",
        "\n",
        "Describe the dataset that you will use to create your models and validate them. If you need to preprocess it, do it here. Include visualisations too. You can visualise raw data samples or extracted features."
      ]
    },
    {
      "cell_type": "markdown",
      "metadata": {
        "id": "2qf7GN1aeXJI"
      },
      "source": [
        "# 8 Results\n",
        "\n",
        "Carry out your experiments here, explain your results."
      ]
    },
    {
      "cell_type": "markdown",
      "metadata": {
        "id": "fSrJCR_cekPO"
      },
      "source": [
        "# 9 Conclusions\n",
        "\n",
        "Your conclusions, improvements, etc should go here"
      ]
    }
  ],
  "metadata": {
    "colab": {
      "provenance": []
    },
    "kernelspec": {
      "display_name": "Python 3.7.13 ('tensorflow')",
      "language": "python",
      "name": "python3"
    },
    "language_info": {
      "codemirror_mode": {
        "name": "ipython",
        "version": 3
      },
      "file_extension": ".py",
      "mimetype": "text/x-python",
      "name": "python",
      "nbconvert_exporter": "python",
      "pygments_lexer": "ipython3",
      "version": "3.7.13"
    },
    "vscode": {
      "interpreter": {
        "hash": "ee6ef56facda7503055c4941e2c2083c4bcc9ecb08a66ac58f56d3b05ea5e5fc"
      }
    }
  },
  "nbformat": 4,
  "nbformat_minor": 4
}

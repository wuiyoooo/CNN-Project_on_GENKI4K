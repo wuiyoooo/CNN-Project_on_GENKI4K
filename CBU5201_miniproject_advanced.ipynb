{
  "cells": [
    {
      "cell_type": "markdown",
      "metadata": {
        "id": "91MsGMTna_P9"
      },
      "source": [
        "# CBU5201 mini-project submission\n",
        "\n",
        "The mini-project has two separate components:\n",
        "\n",
        "\n",
        "1.   **Basic component** [6 marks]: Using the genki4k dataset, build a machine learning pipeline that takes as an input an image and predicts 1) whether the person in the image is similing or not 2) estimate the 3D head pose labels in the image.\n",
        "2.   **Advanced component** [10 marks]: Formulate your own machine learning problem and build a machine learning solution using the genki4k dataset (https://inc.ucsd.edu/mplab/398/). \n",
        "\n",
        "Your submission will consist of two Jupyter notebooks, one for the basic component and another one for advanced component. Please **name each notebook**:\n",
        "\n",
        "* CBU5201_miniproject_basic.ipynb\n",
        "* CBU5201_miniproject_advanced.ipynb\n",
        "\n",
        "then **zip and submit them toghether**.\n",
        "\n",
        "Each uploaded notebook should include: \n",
        "\n",
        "*   **Text cells**, describing concisely each step and results.\n",
        "*   **Code cells**, implementing each step.\n",
        "*   **Output cells**, i.e. the output from each code cell.\n",
        "\n",
        "and **should have the structure** indicated below. Notebooks might not be run, please make sure that the output cells are saved.\n",
        "\n",
        "How will we evaluate your submission?\n",
        "\n",
        "*   Conciseness in your writing (10%).\n",
        "*   Correctness in your methodology (30%).\n",
        "*   Correctness in your analysis and conclusions (30%).\n",
        "*   Completeness (10%).\n",
        "*   Originality (10%).\n",
        "*   Efforts to try something new (10%).\n",
        "\n",
        "Suggestion: Why don't you use **GitHub** to manage your project? GitHub can be used as a presentation card that showcases what you have done and gives evidence of your data science skills, knowledge and experience. \n",
        "\n",
        "Each notebook should be structured into the following 9 sections:\n"
      ]
    },
    {
      "cell_type": "markdown",
      "metadata": {
        "id": "ZaGn4ICrfqXZ"
      },
      "source": [
        "# 1 Author\n",
        "\n",
        "**Student Name**:  \n",
        "**Student ID**:  \n",
        "\n"
      ]
    },
    {
      "cell_type": "markdown",
      "metadata": {
        "id": "o38VQkcdKd6k"
      },
      "source": [
        "# 2 Problem formulation\n",
        "\n",
        "Describe the machine learning problem that you want to solve and explain what's interesting about it.\n",
        "\n",
        "1.  input: image\n",
        "2.  emotion stage: -1(very sad), -0.5(sad), 0.5(happy), 1(very happy)"
      ]
    },
    {
      "cell_type": "markdown",
      "metadata": {
        "id": "N3BwrtEdLDit"
      },
      "source": [
        "# 3 Machine Learning pipeline\n",
        "\n",
        "Describe your ML pipeline. Clearly identify its input and output, any intermediate stages (for instance, transformation -> models), and intermediate data moving from one stage to the next. It's up to you to decide which stages to include in your pipeline. "
      ]
    },
    {
      "cell_type": "markdown",
      "metadata": {
        "id": "j1nDXnzYLLH6"
      },
      "source": [
        "# 4 Transformation stage\n",
        "\n",
        "Describe any transformations, such as feature extraction. Identify input and output. Explain why you have chosen this transformation stage."
      ]
    },
    {
      "cell_type": "markdown",
      "metadata": {
        "id": "0F5_kI95LuZ2"
      },
      "source": [
        "# 5 Modelling\n",
        "\n",
        "Describe the ML model(s) that you will build. Explain why you have chosen them."
      ]
    },
    {
      "cell_type": "markdown",
      "metadata": {
        "id": "bPTSuaB9L2jU"
      },
      "source": [
        "# 6 Methodology\n",
        "\n",
        "Describe how you will train and validate your models, how model performance is assesssed (i.e. accuracy, confusion matrix, etc)"
      ]
    },
    {
      "cell_type": "markdown",
      "metadata": {
        "id": "HZQPxztuL9AW"
      },
      "source": [
        "# 7 Dataset\n",
        "\n",
        "Describe the dataset that you will use to create your models and validate them. If you need to preprocess it, do it here. Include visualisations too. You can visualise raw data samples or extracted features."
      ]
    },
    {
      "cell_type": "markdown",
      "metadata": {
        "id": "2qf7GN1aeXJI"
      },
      "source": [
        "# 8 Results\n",
        "\n",
        "Carry out your experiments here, explain your results."
      ]
    },
    {
      "cell_type": "code",
      "execution_count": 1,
      "metadata": {},
      "outputs": [],
      "source": [
        "import os, shutil\n",
        "import keras\n",
        "base_dir = 'D:\\\\desktop\\\\bupt\\\\ML\\\\Mini_Project\\\\dataset_advanced'\n",
        "\n",
        "train_dir = os.path.join(base_dir, 'train')\n",
        "validation_dir = os.path.join(base_dir, 'valid')\n",
        "test_dir = os.path.join(base_dir, 'test')"
      ]
    },
    {
      "cell_type": "code",
      "execution_count": 24,
      "metadata": {},
      "outputs": [
        {
          "name": "stdout",
          "output_type": "stream",
          "text": [
            "Found 3200 images belonging to 2 classes.\n",
            "Found 400 images belonging to 2 classes.\n",
            "Found 400 images belonging to 2 classes.\n"
          ]
        }
      ],
      "source": [
        "import tensorflow.keras as keras\n",
        "from keras.preprocessing.image import ImageDataGenerator\n",
        "\n",
        "# All images will be rescaled by 1./255\n",
        "train_datagen = ImageDataGenerator(rescale=1./255)\n",
        "test_datagen = ImageDataGenerator(rescale=1./255)\n",
        "\n",
        "train_generator = train_datagen.flow_from_directory(\n",
        "        # This is the target directory\n",
        "        train_dir,\n",
        "        # All images will be resized to 150x150\n",
        "        target_size=(150, 150),\n",
        "        batch_size=20,\n",
        "        class_mode='binary')\n",
        "\n",
        "valid_generator = test_datagen.flow_from_directory(\n",
        "        validation_dir,\n",
        "        target_size=(150, 150),\n",
        "        batch_size=20,\n",
        "        class_mode='binary')\n",
        "\n",
        "test_generator = test_datagen.flow_from_directory(\n",
        "        test_dir,\n",
        "        target_size=(150, 150),\n",
        "        batch_size=20,\n",
        "        class_mode='binary')"
      ]
    },
    {
      "cell_type": "markdown",
      "metadata": {},
      "source": [
        "**Building Model**"
      ]
    },
    {
      "cell_type": "code",
      "execution_count": 3,
      "metadata": {},
      "outputs": [
        {
          "name": "stdout",
          "output_type": "stream",
          "text": [
            "Model: \"sequential\"\n",
            "_________________________________________________________________\n",
            " Layer (type)                Output Shape              Param #   \n",
            "=================================================================\n",
            " conv2d (Conv2D)             (None, 148, 148, 64)      1792      \n",
            "                                                                 \n",
            " max_pooling2d (MaxPooling2D  (None, 74, 74, 64)       0         \n",
            " )                                                               \n",
            "                                                                 \n",
            " conv2d_1 (Conv2D)           (None, 72, 72, 128)       73856     \n",
            "                                                                 \n",
            " max_pooling2d_1 (MaxPooling  (None, 36, 36, 128)      0         \n",
            " 2D)                                                             \n",
            "                                                                 \n",
            " conv2d_2 (Conv2D)           (None, 34, 34, 256)       295168    \n",
            "                                                                 \n",
            " max_pooling2d_2 (MaxPooling  (None, 17, 17, 256)      0         \n",
            " 2D)                                                             \n",
            "                                                                 \n",
            " conv2d_3 (Conv2D)           (None, 15, 15, 512)       1180160   \n",
            "                                                                 \n",
            " max_pooling2d_3 (MaxPooling  (None, 7, 7, 512)        0         \n",
            " 2D)                                                             \n",
            "                                                                 \n",
            " conv2d_4 (Conv2D)           (None, 5, 5, 1024)        4719616   \n",
            "                                                                 \n",
            " max_pooling2d_4 (MaxPooling  (None, 2, 2, 1024)       0         \n",
            " 2D)                                                             \n",
            "                                                                 \n",
            " flatten (Flatten)           (None, 4096)              0         \n",
            "                                                                 \n",
            " dense (Dense)               (None, 512)               2097664   \n",
            "                                                                 \n",
            " dense_1 (Dense)             (None, 1)                 513       \n",
            "                                                                 \n",
            "=================================================================\n",
            "Total params: 8,368,769\n",
            "Trainable params: 8,368,769\n",
            "Non-trainable params: 0\n",
            "_________________________________________________________________\n"
          ]
        }
      ],
      "source": [
        "from keras import layers\n",
        "from keras import models\n",
        "\n",
        "model = models.Sequential()\n",
        "model.add(layers.Conv2D(64, (3, 3), activation='relu',\n",
        "                        input_shape=(150, 150, 3)))\n",
        "model.add(layers.MaxPooling2D((2, 2)))\n",
        "model.add(layers.Conv2D(128, (3, 3), activation='relu'))\n",
        "model.add(layers.MaxPooling2D((2, 2)))\n",
        "model.add(layers.Conv2D(256, (3, 3), activation='relu'))\n",
        "model.add(layers.MaxPooling2D((2, 2)))\n",
        "model.add(layers.Conv2D(512, (3, 3), activation='relu'))\n",
        "model.add(layers.MaxPooling2D((2, 2)))\n",
        "model.add(layers.Conv2D(1024, (3, 3), activation='relu'))\n",
        "model.add(layers.MaxPooling2D((2, 2)))\n",
        "model.add(layers.Flatten())\n",
        "model.add(layers.Dense(512, activation='relu'))\n",
        "model.add(layers.Dense(1, activation='sigmoid'))\n",
        "\n",
        "model.summary()"
      ]
    },
    {
      "cell_type": "code",
      "execution_count": 4,
      "metadata": {},
      "outputs": [
        {
          "name": "stderr",
          "output_type": "stream",
          "text": [
            "C:\\ProgramData\\Anaconda3\\envs\\tensorflow\\Lib\\site-packages\\keras\\optimizers\\optimizer_v2\\rmsprop.py:135: UserWarning: The `lr` argument is deprecated, use `learning_rate` instead.\n",
            "  super(RMSprop, self).__init__(name, **kwargs)\n",
            "C:\\ProgramData\\Anaconda3\\envs\\tensorflow\\Lib\\site-packages\\ipykernel_launcher.py:12: UserWarning: `Model.fit_generator` is deprecated and will be removed in a future version. Please use `Model.fit`, which supports generators.\n",
            "  if sys.path[0] == \"\":\n"
          ]
        },
        {
          "name": "stdout",
          "output_type": "stream",
          "text": [
            "Epoch 1/10\n",
            "100/100 [==============================] - 124s 1s/step - loss: 0.6633 - acc: 0.5810 - val_loss: 0.5706 - val_acc: 0.7200\n",
            "Epoch 2/10\n",
            "100/100 [==============================] - 133s 1s/step - loss: 0.4815 - acc: 0.7740 - val_loss: 0.4094 - val_acc: 0.8275\n",
            "Epoch 3/10\n",
            "100/100 [==============================] - 143s 1s/step - loss: 0.3203 - acc: 0.8730 - val_loss: 0.2734 - val_acc: 0.8875\n",
            "Epoch 4/10\n",
            "100/100 [==============================] - 144s 1s/step - loss: 0.2247 - acc: 0.9110 - val_loss: 0.2377 - val_acc: 0.9050\n",
            "Epoch 5/10\n",
            "100/100 [==============================] - 143s 1s/step - loss: 0.1869 - acc: 0.9325 - val_loss: 0.1850 - val_acc: 0.9350\n",
            "Epoch 6/10\n",
            "100/100 [==============================] - 143s 1s/step - loss: 0.1562 - acc: 0.9430 - val_loss: 0.1787 - val_acc: 0.9350\n",
            "Epoch 7/10\n",
            "100/100 [==============================] - 142s 1s/step - loss: 0.1262 - acc: 0.9530 - val_loss: 0.1907 - val_acc: 0.9225\n",
            "Epoch 8/10\n",
            "100/100 [==============================] - 141s 1s/step - loss: 0.0999 - acc: 0.9600 - val_loss: 0.2379 - val_acc: 0.9175\n",
            "Epoch 9/10\n",
            "100/100 [==============================] - 146s 1s/step - loss: 0.0797 - acc: 0.9725 - val_loss: 0.3148 - val_acc: 0.9000\n",
            "Epoch 10/10\n",
            "100/100 [==============================] - 146s 1s/step - loss: 0.0847 - acc: 0.9670 - val_loss: 0.1624 - val_acc: 0.9475\n"
          ]
        }
      ],
      "source": [
        "from keras import optimizers\n",
        "\n",
        "model.compile(loss='binary_crossentropy',\n",
        "              optimizer=optimizers.RMSprop(lr=1e-4),\n",
        "              metrics=['acc'])\n",
        "\n",
        "history = model.fit_generator(\n",
        "      train_generator,\n",
        "      steps_per_epoch=100,\n",
        "      epochs=10,\n",
        "      validation_data=valid_generator,\n",
        "      validation_steps=400//20)"
      ]
    },
    {
      "cell_type": "code",
      "execution_count": 5,
      "metadata": {},
      "outputs": [],
      "source": [
        "model.save('D:\\\\desktop\\\\bupt\\\\ML\\\\Mini_Project\\\\advanced.h5')"
      ]
    },
    {
      "cell_type": "code",
      "execution_count": 6,
      "metadata": {},
      "outputs": [
        {
          "data": {
            "image/png": "[encoded data removed]",
            "text/plain": [
              "<Figure size 640x480 with 1 Axes>"
            ]
          },
          "metadata": {},
          "output_type": "display_data"
        },
        {
          "data": {
            "image/png": "[encoded data removed]",
            "text/plain": [
              "<Figure size 640x480 with 1 Axes>"
            ]
          },
          "metadata": {},
          "output_type": "display_data"
        }
      ],
      "source": [
        "import matplotlib.pyplot as plt\n",
        "\n",
        "acc = history.history['acc']\n",
        "val_acc = history.history['val_acc']\n",
        "loss = history.history['loss']\n",
        "val_loss = history.history['val_loss']\n",
        "\n",
        "epochs = range(len(acc))\n",
        "\n",
        "plt.plot(epochs, acc, 'bo', label='Training acc')\n",
        "plt.plot(epochs, val_acc, 'b', label='Validation acc')\n",
        "plt.title('Training and validation accuracy')\n",
        "plt.legend()\n",
        "\n",
        "plt.figure()\n",
        "\n",
        "plt.plot(epochs, loss, 'bo', label='Training loss')\n",
        "plt.plot(epochs, val_loss, 'b', label='Validation loss')\n",
        "plt.title('Training and validation loss')\n",
        "plt.legend()\n",
        "plt.show()"
      ]
    },
    {
      "cell_type": "code",
      "execution_count": 21,
      "metadata": {},
      "outputs": [
        {
          "name": "stdout",
          "output_type": "stream",
          "text": [
            "1/1 [==============================] - 0s 92ms/step\n",
            "[[0.00027258]]\n",
            "Male\n",
            "1/1 [==============================] - 0s 45ms/step\n",
            "[[0.9999708]]\n",
            "Female\n"
          ]
        }
      ],
      "source": [
        "import tensorflow.keras as keras\n",
        "import numpy as np\n",
        "model = keras.models.load_model('D:\\\\desktop\\\\bupt\\\\ML\\\\Mini_Project\\\\advanced.h5')\n",
        "#Male case\n",
        "img_path='D:\\\\desktop\\\\bupt\\\\ML\\\\Mini_Project\\\\dataset_advanced\\\\test\\\\A\\\\file0042.jpg'\n",
        "img = keras.utils.load_img(img_path, target_size=(150, 150))\n",
        "img_tensor = keras.utils.img_to_array(img)/255.0\n",
        "img_tensor = np.expand_dims(img_tensor, axis=0)\n",
        "prediction =model.predict(img_tensor)  \n",
        "print(prediction)\n",
        "if prediction[0][0]>0.5:\n",
        "    result='Female'\n",
        "else:\n",
        "    result='Male'\n",
        "print(result)\n",
        "#Female case\n",
        "img_path='D:\\\\desktop\\\\bupt\\\\ML\\\\Mini_Project\\\\dataset_advanced\\\\test\\\\B\\\\file0091.jpg'\n",
        "img = keras.utils.load_img(img_path, target_size=(150, 150))\n",
        "img_tensor = keras.utils.img_to_array(img)/255.0\n",
        "img_tensor = np.expand_dims(img_tensor, axis=0)\n",
        "prediction =model.predict(img_tensor)  \n",
        "print(prediction)\n",
        "if prediction[0][0]>0.5:\n",
        "    result='Female'\n",
        "else:\n",
        "    result='Male'\n",
        "print(result)"
      ]
    },
    {
      "cell_type": "code",
      "execution_count": 25,
      "metadata": {},
      "outputs": [
        {
          "name": "stderr",
          "output_type": "stream",
          "text": [
            "C:\\ProgramData\\Anaconda3\\envs\\tensorflow\\Lib\\site-packages\\ipykernel_launcher.py:7: UserWarning: `Model.evaluate_generator` is deprecated and will be removed in a future version. Please use `Model.evaluate`, which supports generators.\n",
            "  import sys\n"
          ]
        },
        {
          "name": "stdout",
          "output_type": "stream",
          "text": [
            "loss: 0.229494 - acc: 0.920000\n"
          ]
        }
      ],
      "source": [
        "score = model.evaluate_generator(\n",
        "  test_generator,\n",
        "  steps=400//20,\n",
        "  max_queue_size=10,\n",
        "  workers=1,\n",
        "  use_multiprocessing=False,\n",
        "  verbose=0)\n",
        "print(\"loss: %.6f - acc: %.6f\" % (score[0], score[1]))"
      ]
    },
    {
      "cell_type": "markdown",
      "metadata": {
        "id": "fSrJCR_cekPO"
      },
      "source": [
        "# 9 Conclusions\n",
        "\n",
        "Your conclusions, improvements, etc should go here"
      ]
    }
  ],
  "metadata": {
    "colab": {
      "provenance": []
    },
    "kernelspec": {
      "display_name": "Python 3.7.13 ('tensorflow')",
      "language": "python",
      "name": "python3"
    },
    "language_info": {
      "codemirror_mode": {
        "name": "ipython",
        "version": 3
      },
      "file_extension": ".py",
      "mimetype": "text/x-python",
      "name": "python",
      "nbconvert_exporter": "python",
      "pygments_lexer": "ipython3",
      "version": "3.7.13"
    },
    "vscode": {
      "interpreter": {
        "hash": "ee6ef56facda7503055c4941e2c2083c4bcc9ecb08a66ac58f56d3b05ea5e5fc"
      }
    }
  },
  "nbformat": 4,
  "nbformat_minor": 4
}
